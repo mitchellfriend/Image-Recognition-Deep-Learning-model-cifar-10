{
 "cells": [
  {
   "cell_type": "markdown",
   "metadata": {},
   "source": [
    "<h3 align=\"center\"> Loading Model & Image Prediction"
   ]
  },
  {
   "cell_type": "code",
   "execution_count": 37,
   "metadata": {
    "scrolled": true
   },
   "outputs": [
    {
     "name": "stdout",
     "output_type": "stream",
     "text": [
      "Enter image file pathname: test_images/test_bird_1.jpg\n",
      "Airplane\n"
     ]
    }
   ],
   "source": [
    "#import import modules\n",
    "from keras.models import load_model \n",
    "from PIL import Image\n",
    "import numpy as np\n",
    "\n",
    "#ignore Warnings\n",
    "import warnings\n",
    "warnings.filterwarnings(\"ignore\")\n",
    "\n",
    "#load model\n",
    "model = load_model('Trained_model.h5')\n",
    "\n",
    "#labels\n",
    "labels = ['Airplane', 'Automobile', 'Bird',\n",
    "         'Cat', 'Deer', 'Dog', 'Frog', 'Horse',\n",
    "         'Ship', 'Truck']\n",
    "\n",
    "input_path = input('Enter image file pathname: ')\n",
    "input_image = Image.open(input_path)\n",
    "input_image = input_image.resize((32,32), resample=Image.LANCZOS)\n",
    "image_array = np.array(input_image)\n",
    "image_array = image_array.astype('float32')\n",
    "image_array /= 225.0\n",
    "image_array = image_array.reshape(1, 32, 32, 3)\n",
    "answer = model.predict(image_array)\n",
    "input_image.show()\n",
    "print(labels[np.argmax(answer)])"
   ]
  },
  {
   "cell_type": "code",
   "execution_count": null,
   "metadata": {},
   "outputs": [],
   "source": []
  }
 ],
 "metadata": {
  "kernelspec": {
   "display_name": "Python 3",
   "language": "python",
   "name": "python3"
  },
  "language_info": {
   "codemirror_mode": {
    "name": "ipython",
    "version": 3
   },
   "file_extension": ".py",
   "mimetype": "text/x-python",
   "name": "python",
   "nbconvert_exporter": "python",
   "pygments_lexer": "ipython3",
   "version": "3.6.8"
  }
 },
 "nbformat": 4,
 "nbformat_minor": 2
}
